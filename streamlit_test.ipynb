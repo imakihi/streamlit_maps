{
 "cells": [
  {
   "cell_type": "code",
   "execution_count": 2,
   "id": "2a325d4b-cf96-4969-9fda-c22a247103f3",
   "metadata": {},
   "outputs": [],
   "source": [
    "#!pip install streamlit"
   ]
  },
  {
   "cell_type": "code",
   "execution_count": 3,
   "id": "ee77932e-b68c-4059-9b52-607976377772",
   "metadata": {},
   "outputs": [],
   "source": [
    "import streamlit as st\n",
    "import numpy as np\n",
    "import pandas as pd"
   ]
  },
  {
   "cell_type": "code",
   "execution_count": 4,
   "id": "d0275bf5-95ef-432d-86b8-4412a01b2943",
   "metadata": {},
   "outputs": [
    {
     "name": "stderr",
     "output_type": "stream",
     "text": [
      "2022-02-02 22:46:18.140 \n",
      "  \u001b[33m\u001b[1mWarning:\u001b[0m to view this Streamlit app on a browser, run it with the following\n",
      "  command:\n",
      "\n",
      "    streamlit run C:\\Users\\hiroo\\cartoframes\\lib\\site-packages\\ipykernel_launcher.py [ARGUMENTS]\n"
     ]
    },
    {
     "data": {
      "text/plain": [
       "DeltaGenerator(_root_container=0, _provided_cursor=None, _parent=None, _block_type=None, _form_data=None)"
      ]
     },
     "execution_count": 4,
     "metadata": {},
     "output_type": "execute_result"
    }
   ],
   "source": [
    "st.title('超入門')"
   ]
  },
  {
   "cell_type": "code",
   "execution_count": 5,
   "id": "b8b84fbd-bdd9-4eb6-8449-be1cbeca96f5",
   "metadata": {},
   "outputs": [
    {
     "data": {
      "text/html": [
       "<div><div id=c7a8847b-7ab8-4bb2-ae84-03a7aff04ec5 style=\"display:none; background-color:#9D6CFF; color:white; width:200px; height:30px; padding-left:5px; border-radius:4px; flex-direction:row; justify-content:space-around; align-items:center;\" onmouseover=\"this.style.backgroundColor='#BA9BF8'\" onmouseout=\"this.style.backgroundColor='#9D6CFF'\" onclick=\"window.commands?.execute('create-mitosheet-from-dataframe-output');\">See Full Dataframe in Mito</div> <script> if (window.commands.hasCommand('create-mitosheet-from-dataframe-output')) document.getElementById('c7a8847b-7ab8-4bb2-ae84-03a7aff04ec5').style.display = 'flex' </script> <table border=\"1\" class=\"dataframe\">\n",
       "  <thead>\n",
       "    <tr style=\"text-align: right;\">\n",
       "      <th></th>\n",
       "      <th>移動区間</th>\n",
       "      <th>623</th>\n",
       "      <th>624</th>\n",
       "      <th>904</th>\n",
       "      <th>905</th>\n",
       "      <th>1002</th>\n",
       "      <th>1003</th>\n",
       "      <th>1005</th>\n",
       "      <th>1006</th>\n",
       "    </tr>\n",
       "  </thead>\n",
       "  <tbody>\n",
       "    <tr>\n",
       "      <th>0</th>\n",
       "      <td>桜木町駅-ぴあアリーナ</td>\n",
       "      <td>8.1</td>\n",
       "      <td>10.0</td>\n",
       "      <td>9.2</td>\n",
       "      <td>12.5</td>\n",
       "      <td>6.7</td>\n",
       "      <td>8.1</td>\n",
       "      <td>10.4</td>\n",
       "      <td>11.3</td>\n",
       "    </tr>\n",
       "    <tr>\n",
       "      <th>1</th>\n",
       "      <td>ぴあアリーナ-けやき通り</td>\n",
       "      <td>6.4</td>\n",
       "      <td>5.1</td>\n",
       "      <td>4.5</td>\n",
       "      <td>4.5</td>\n",
       "      <td>12.0</td>\n",
       "      <td>9.8</td>\n",
       "      <td>9.2</td>\n",
       "      <td>9.0</td>\n",
       "    </tr>\n",
       "    <tr>\n",
       "      <th>2</th>\n",
       "      <td>ぴあアリーナ-ランドマークプラザ</td>\n",
       "      <td>7.4</td>\n",
       "      <td>7.7</td>\n",
       "      <td>5.9</td>\n",
       "      <td>8.0</td>\n",
       "      <td>11.2</td>\n",
       "      <td>10.8</td>\n",
       "      <td>5.8</td>\n",
       "      <td>7.3</td>\n",
       "    </tr>\n",
       "    <tr>\n",
       "      <th>3</th>\n",
       "      <td>ぴあアリーナ-いちょう通り</td>\n",
       "      <td>9.1</td>\n",
       "      <td>8.6</td>\n",
       "      <td>10.6</td>\n",
       "      <td>8.3</td>\n",
       "      <td>4.9</td>\n",
       "      <td>6.1</td>\n",
       "      <td>5.1</td>\n",
       "      <td>4.7</td>\n",
       "    </tr>\n",
       "    <tr>\n",
       "      <th>4</th>\n",
       "      <td>ぴあアリーナ-桜木町駅</td>\n",
       "      <td>8.0</td>\n",
       "      <td>8.5</td>\n",
       "      <td>8.3</td>\n",
       "      <td>8.6</td>\n",
       "      <td>6.0</td>\n",
       "      <td>5.6</td>\n",
       "      <td>8.3</td>\n",
       "      <td>9.0</td>\n",
       "    </tr>\n",
       "  </tbody>\n",
       "</table></div>"
      ],
      "text/plain": [
       "               移動区間  623   624   904   905  1002  1003  1005  1006\n",
       "0       桜木町駅-ぴあアリーナ  8.1  10.0   9.2  12.5   6.7   8.1  10.4  11.3\n",
       "1      ぴあアリーナ-けやき通り  6.4   5.1   4.5   4.5  12.0   9.8   9.2   9.0\n",
       "2  ぴあアリーナ-ランドマークプラザ  7.4   7.7   5.9   8.0  11.2  10.8   5.8   7.3\n",
       "3     ぴあアリーナ-いちょう通り  9.1   8.6  10.6   8.3   4.9   6.1   5.1   4.7\n",
       "4       ぴあアリーナ-桜木町駅  8.0   8.5   8.3   8.6   6.0   5.6   8.3   9.0"
      ]
     },
     "execution_count": 5,
     "metadata": {},
     "output_type": "execute_result"
    }
   ],
   "source": [
    "df = pd.read_csv('c:/tmp/trip.csv')\n",
    "df.head()"
   ]
  },
  {
   "cell_type": "code",
   "execution_count": 9,
   "id": "378fa407-323e-4f51-9b81-aa5369ceb500",
   "metadata": {},
   "outputs": [
    {
     "data": {
      "text/plain": [
       "array([0, 0, 0, 2, 3, 4, 9, 0], dtype=int64)"
      ]
     },
     "execution_count": 9,
     "metadata": {},
     "output_type": "execute_result"
    }
   ],
   "source": [
    "df = pd.read_csv('https://earthquake.usgs.gov/earthquakes/feed/v1.0/summary/significant_month.csv')\n",
    "\n",
    "hist_values = np.histogram(df[['mag']], bins=8, range=(0,8))[0]\n",
    "hist_values"
   ]
  },
  {
   "cell_type": "code",
   "execution_count": null,
   "id": "1c7b4b02-5c29-4d84-af40-46f77b270ba7",
   "metadata": {},
   "outputs": [],
   "source": []
  }
 ],
 "metadata": {
  "kernelspec": {
   "display_name": "Python 3 (ipykernel)",
   "language": "python",
   "name": "python3"
  },
  "language_info": {
   "codemirror_mode": {
    "name": "ipython",
    "version": 3
   },
   "file_extension": ".py",
   "mimetype": "text/x-python",
   "name": "python",
   "nbconvert_exporter": "python",
   "pygments_lexer": "ipython3",
   "version": "3.9.6"
  }
 },
 "nbformat": 4,
 "nbformat_minor": 5
}
